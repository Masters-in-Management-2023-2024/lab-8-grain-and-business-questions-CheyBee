{
  "nbformat": 4,
  "nbformat_minor": 0,
  "metadata": {
    "colab": {
      "provenance": []
    },
    "kernelspec": {
      "name": "python3",
      "display_name": "Python 3"
    },
    "language_info": {
      "name": "python"
    }
  },
  "cells": [
    {
      "cell_type": "code",
      "execution_count": null,
      "metadata": {
        "colab": {
          "base_uri": "https://localhost:8080/"
        },
        "id": "JVCoVJMqfrCz",
        "outputId": "1d22e5da-c27d-4076-beec-292f7532f615"
      },
      "outputs": [
        {
          "output_type": "stream",
          "name": "stdout",
          "text": [
            "Loading diamonds dataset...\n",
            "Dataset loaded successfully!\n"
          ]
        }
      ],
      "source": [
        "#Question 1: \"How extensive is our inventory database?\"\n",
        "#The CEO needs to know the scale of data you're analyzing.\n",
        "\n",
        "import polars as pl\n",
        "\n",
        "# Load the diamonds dataset\n",
        "print(\"Loading diamonds dataset...\")\n",
        "df = pl.read_csv('https://raw.githubusercontent.com/pycaret/pycaret/master/datasets/diamond.csv')\n",
        "print(\"Dataset loaded successfully!\")\n",
        "\n"
      ]
    },
    {
      "cell_type": "code",
      "source": [
        "#Question 2: \"What information do we track about each diamond?\"\n",
        "#List all the characteristics we record.\n",
        "\n",
        "import polars as pl\n",
        "\n",
        "# Load the diamonds dataset\n",
        "print(\"Loading diamonds dataset...\")\n",
        "df = pl.read_csv('https://raw.githubusercontent.com/pycaret/pycaret/master/datasets/diamond.csv')\n",
        "print(\"Dataset loaded successfully!\")\n",
        "\n",
        "print(df.columns)"
      ],
      "metadata": {
        "colab": {
          "base_uri": "https://localhost:8080/"
        },
        "id": "R7wA6le8f2ce",
        "outputId": "fa40a25b-bf3e-41ee-bdd2-a9e735b67882"
      },
      "execution_count": null,
      "outputs": [
        {
          "output_type": "stream",
          "name": "stdout",
          "text": [
            "Loading diamonds dataset...\n",
            "Dataset loaded successfully!\n",
            "['Carat Weight', 'Cut', 'Color', 'Clarity', 'Polish', 'Symmetry', 'Report', 'Price']\n"
          ]
        }
      ]
    },
    {
      "cell_type": "code",
      "source": [
        "#Question 3: \"When I look at one line in this database, what am I looking at?\"\n",
        "#Explain in business terms:\n",
        "\n",
        "#Your answer: Each row represents:\n",
        "\n",
        "import polars as pl\n",
        "\n",
        "# Load the diamonds dataset\n",
        "print(\"Loading diamonds dataset...\")\n",
        "df = pl.read_csv('https://raw.githubusercontent.com/pycaret/pycaret/master/datasets/diamond.csv')\n",
        "print(\"Dataset loaded successfully!\")\n",
        "\n",
        "print(\"Each row represents a detailed record of one individual diamond, including its physical characteristics (like weight, size, and shape), quality metrics (such as cut, color, and clarity), and its price.\")"
      ],
      "metadata": {
        "colab": {
          "base_uri": "https://localhost:8080/"
        },
        "id": "yYbESR5Df2rw",
        "outputId": "587d3405-6bdf-4c97-c14c-97664b3eeccd"
      },
      "execution_count": null,
      "outputs": [
        {
          "output_type": "stream",
          "name": "stdout",
          "text": [
            "Loading diamonds dataset...\n",
            "Dataset loaded successfully!\n",
            "Each row represents a detailed record of one individual diamond, including its physical characteristics (like weight, size, and shape), quality metrics (such as cut, color, and clarity), and its price.\n"
          ]
        }
      ]
    },
    {
      "cell_type": "code",
      "source": [
        "#Question 4: \"We're considering expanding our storage facilities. How many total carats do we have in inventory?\n",
        "#I need to know if our vaults can handle the weight.\"\n",
        "#Think about what measurement would help answer this.\n",
        "\n",
        "import polars as pl\n",
        "\n",
        "# Load the diamonds dataset\n",
        "print(\"Loading diamonds dataset...\")\n",
        "df = pl.read_csv('https://raw.githubusercontent.com/pycaret/pycaret/master/datasets/diamond.csv')\n",
        "print(\"Dataset loaded successfully!\")\n",
        "\n",
        "total_carats = df[\"Carat Weight\"].sum()\n",
        "print(f\"Total carats in inventory: {total_carats:.2f}\")"
      ],
      "metadata": {
        "colab": {
          "base_uri": "https://localhost:8080/"
        },
        "id": "bngcCGdSf257",
        "outputId": "b3bdb871-36e9-4fce-fcad-cc1ad8647f64"
      },
      "execution_count": null,
      "outputs": [
        {
          "output_type": "stream",
          "name": "stdout",
          "text": [
            "Loading diamonds dataset...\n",
            "Dataset loaded successfully!\n",
            "Total carats in inventory: 8007.12\n"
          ]
        }
      ]
    },
    {
      "cell_type": "code",
      "source": [
        "#Question 5: \"Our new marketing campaign claims we have 'the widest variety of cuts in the industry.' Can you verify this?\"\n",
        "#The CEO wants to know about variety, not quantity.\n",
        "\n",
        "import polars as pl\n",
        "\n",
        "# Load the diamonds dataset\n",
        "print(\"Loading diamonds dataset...\")\n",
        "df = pl.read_csv('https://raw.githubusercontent.com/pycaret/pycaret/master/datasets/diamond.csv')\n",
        "print(\"Dataset loaded successfully!\")\n",
        "\n",
        "unique_cuts = df[\"Cut\"].unique()\n",
        "print(\"Unique cut types in inventory:\")\n",
        "print(unique_cuts)\n",
        "print(f\"Total unique cuts: {len(unique_cuts)}\")"
      ],
      "metadata": {
        "colab": {
          "base_uri": "https://localhost:8080/"
        },
        "id": "4cImZsfRf3Hx",
        "outputId": "989f4120-5316-4a42-d359-383e36991ae3"
      },
      "execution_count": null,
      "outputs": [
        {
          "output_type": "stream",
          "name": "stdout",
          "text": [
            "Loading diamonds dataset...\n",
            "Dataset loaded successfully!\n",
            "Unique cut types in inventory:\n",
            "shape: (5,)\n",
            "Series: 'Cut' [str]\n",
            "[\n",
            "\t\"Good\"\n",
            "\t\"Ideal\"\n",
            "\t\"Signature-Ideal\"\n",
            "\t\"Very Good\"\n",
            "\t\"Fair\"\n",
            "]\n",
            "Total unique cuts: 5\n"
          ]
        }
      ]
    },
    {
      "cell_type": "code",
      "source": [
        "#Question 6: \"I'm meeting with our insurance company. They need to know our price exposure - what's our most and least valuable diamond?\"\n",
        "\n",
        "import polars as pl\n",
        "\n",
        "# Load the diamonds dataset\n",
        "print(\"Loading diamonds dataset...\")\n",
        "df = pl.read_csv('https://raw.githubusercontent.com/pycaret/pycaret/master/datasets/diamond.csv')\n",
        "print(\"Dataset loaded successfully!\")\n",
        "\n",
        "min_price_row = df.filter(df[\"Price\"] == df[\"Price\"].min())\n",
        "\n",
        "max_price_row = df.filter(df[\"Price\"] == df[\"Price\"].max())\n",
        "\n",
        "print(\"Least valuable diamond:\")\n",
        "print(min_price_row)\n",
        "\n",
        "print(\"\\nMost valuable diamond:\")\n",
        "print(max_price_row)"
      ],
      "metadata": {
        "colab": {
          "base_uri": "https://localhost:8080/"
        },
        "id": "vBaVdkHIf_Lj",
        "outputId": "8bce8575-d5ae-4182-ef58-2fc13acaa352"
      },
      "execution_count": null,
      "outputs": [
        {
          "output_type": "stream",
          "name": "stdout",
          "text": [
            "Loading diamonds dataset...\n",
            "Dataset loaded successfully!\n",
            "Least valuable diamond:\n",
            "shape: (1, 8)\n",
            "┌──────────────┬──────┬───────┬─────────┬────────┬──────────┬────────┬───────┐\n",
            "│ Carat Weight ┆ Cut  ┆ Color ┆ Clarity ┆ Polish ┆ Symmetry ┆ Report ┆ Price │\n",
            "│ ---          ┆ ---  ┆ ---   ┆ ---     ┆ ---    ┆ ---      ┆ ---    ┆ ---   │\n",
            "│ f64          ┆ str  ┆ str   ┆ str     ┆ str    ┆ str      ┆ str    ┆ i64   │\n",
            "╞══════════════╪══════╪═══════╪═════════╪════════╪══════════╪════════╪═══════╡\n",
            "│ 0.77         ┆ Good ┆ I     ┆ VS1     ┆ VG     ┆ G        ┆ AGSL   ┆ 2184  │\n",
            "└──────────────┴──────┴───────┴─────────┴────────┴──────────┴────────┴───────┘\n",
            "\n",
            "Most valuable diamond:\n",
            "shape: (1, 8)\n",
            "┌──────────────┬───────┬───────┬─────────┬────────┬──────────┬────────┬────────┐\n",
            "│ Carat Weight ┆ Cut   ┆ Color ┆ Clarity ┆ Polish ┆ Symmetry ┆ Report ┆ Price  │\n",
            "│ ---          ┆ ---   ┆ ---   ┆ ---     ┆ ---    ┆ ---      ┆ ---    ┆ ---    │\n",
            "│ f64          ┆ str   ┆ str   ┆ str     ┆ str    ┆ str      ┆ str    ┆ i64    │\n",
            "╞══════════════╪═══════╪═══════╪═════════╪════════╪══════════╪════════╪════════╡\n",
            "│ 2.79         ┆ Ideal ┆ D     ┆ IF      ┆ EX     ┆ EX       ┆ GIA    ┆ 101561 │\n",
            "└──────────────┴───────┴───────┴─────────┴────────┴──────────┴────────┴────────┘\n"
          ]
        }
      ]
    },
    {
      "cell_type": "code",
      "source": [
        "#Question 7: \"Which color grades should we focus on in our premium line? I need typical prices across our color spectrum.\"\n",
        "#The CEO wants to understand pricing patterns.\n",
        "\n",
        "\n",
        "#Reflection: After analyzing by color, how has your view of the data changed? What does each row in your result represent now?\n",
        "\n",
        "#Your answer: New grain =\n",
        "\n",
        "import polars as pl\n",
        "\n",
        "# Load the diamonds dataset\n",
        "print(\"Loading diamonds dataset...\")\n",
        "df = pl.read_csv('https://raw.githubusercontent.com/pycaret/pycaret/master/datasets/diamond.csv')\n",
        "print(\"Dataset loaded successfully!\")\n",
        "\n",
        "color_prices = df.group_by(\"Color\").agg([\n",
        "    pl.col(\"Price\").mean().alias(\"average_price\"),\n",
        "    pl.col(\"Price\").median().alias(\"median_price\")\n",
        "]).sort(\"average_price\", descending=True)\n",
        "\n",
        "print(\"Typical prices by color grade:\")\n",
        "print(color_prices)"
      ],
      "metadata": {
        "colab": {
          "base_uri": "https://localhost:8080/"
        },
        "id": "choC5LxJf_S1",
        "outputId": "3b6337d0-bdbe-4e84-adf1-88926ecad7bf"
      },
      "execution_count": null,
      "outputs": [
        {
          "output_type": "stream",
          "name": "stdout",
          "text": [
            "Loading diamonds dataset...\n",
            "Dataset loaded successfully!\n",
            "Typical prices by color grade:\n",
            "shape: (6, 3)\n",
            "┌───────┬───────────────┬──────────────┐\n",
            "│ Color ┆ average_price ┆ median_price │\n",
            "│ ---   ┆ ---           ┆ ---          │\n",
            "│ str   ┆ f64           ┆ f64          │\n",
            "╞═══════╪═══════════════╪══════════════╡\n",
            "│ D     ┆ 15255.783661  ┆ 7567.0       │\n",
            "│ F     ┆ 12712.241856  ┆ 8860.0       │\n",
            "│ G     ┆ 12520.050633  ┆ 8800.0       │\n",
            "│ E     ┆ 11539.190231  ┆ 7059.5       │\n",
            "│ H     ┆ 10487.347544  ┆ 7169.0       │\n",
            "│ I     ┆ 8989.636364   ┆ 6655.0       │\n",
            "└───────┴───────────────┴──────────────┘\n"
          ]
        }
      ]
    },
    {
      "cell_type": "code",
      "source": [
        "#Question 8: \"We're thinking of specializing in certain clarity grades.\n",
        "#For our investor deck, I need a complete breakdown showing: how many diamonds we have in each clarity grade, their typical price, and the total carats we're holding for each grade.\"\n",
        "\n",
        "import polars as pl\n",
        "\n",
        "# Load the diamonds dataset\n",
        "print(\"Loading diamonds dataset...\")\n",
        "df = pl.read_csv('https://raw.githubusercontent.com/pycaret/pycaret/master/datasets/diamond.csv')\n",
        "print(\"Dataset loaded successfully!\")\n",
        "\n",
        "clarity_summary = df.group_by(\"Clarity\").agg([\n",
        "    pl.count().alias(\"diamond_count\"),\n",
        "    pl.col(\"Price\").mean().alias(\"average_price\"),\n",
        "    pl.col(\"Price\").median().alias(\"median_price\"),\n",
        "    pl.col(\"Carat Weight\").sum().alias(\"total_carats\")\n",
        "]).sort(\"diamond_count\", descending=True)\n",
        "\n",
        "print(\"Clarity breakdown:\")\n",
        "print(clarity_summary)\n"
      ],
      "metadata": {
        "colab": {
          "base_uri": "https://localhost:8080/"
        },
        "id": "ZrafJjGxf_Zn",
        "outputId": "01386aa9-7cbc-4ca2-fb45-c224a8a11658"
      },
      "execution_count": null,
      "outputs": [
        {
          "output_type": "stream",
          "name": "stdout",
          "text": [
            "Loading diamonds dataset...\n",
            "Dataset loaded successfully!\n",
            "Clarity breakdown:\n",
            "shape: (7, 5)\n",
            "┌─────────┬───────────────┬───────────────┬──────────────┬──────────────┐\n",
            "│ Clarity ┆ diamond_count ┆ average_price ┆ median_price ┆ total_carats │\n",
            "│ ---     ┆ ---           ┆ ---           ┆ ---          ┆ ---          │\n",
            "│ str     ┆ u32           ┆ f64           ┆ f64          ┆ f64          │\n",
            "╞═════════╪═══════════════╪═══════════════╪══════════════╪══════════════╡\n",
            "│ SI1     ┆ 2059          ┆ 8018.864012   ┆ 5417.0       ┆ 2563.69      │\n",
            "│ VS2     ┆ 1575          ┆ 11809.053333  ┆ 7568.0       ┆ 2170.81      │\n",
            "│ VS1     ┆ 1192          ┆ 13694.113255  ┆ 9245.0       ┆ 1682.74      │\n",
            "│ VVS2    ┆ 666           ┆ 14142.177177  ┆ 10266.0      ┆ 876.58       │\n",
            "│ VVS1    ┆ 285           ┆ 16845.680702  ┆ 11142.0      ┆ 389.43       │\n",
            "│ IF      ┆ 219           ┆ 22105.844749  ┆ 12647.0      ┆ 316.0        │\n",
            "│ FL      ┆ 4             ┆ 63776.0       ┆ 62371.5      ┆ 7.87         │\n",
            "└─────────┴───────────────┴───────────────┴──────────────┴──────────────┘\n"
          ]
        },
        {
          "output_type": "stream",
          "name": "stderr",
          "text": [
            "/tmp/ipython-input-3723733058.py:12: DeprecationWarning: `pl.count()` is deprecated. Please use `pl.len()` instead.\n",
            "  pl.count().alias(\"diamond_count\"),\n"
          ]
        }
      ]
    },
    {
      "cell_type": "code",
      "source": [
        "#Question 9: \"My luxury competitor claims they have the best prices for every cut-color combination.\n",
        "#Show me our pricing structure across these combinations - I want to see where we're competitive.\"\n",
        "\n",
        "#Reflection: How specific is your analysis now? What level of detail does each row represent?\n",
        "\n",
        "#Your answer: New grain =\n",
        "\n",
        "import polars as pl\n",
        "\n",
        "# Load the diamonds dataset\n",
        "print(\"Loading diamonds dataset...\")\n",
        "df = pl.read_csv('https://raw.githubusercontent.com/pycaret/pycaret/master/datasets/diamond.csv')\n",
        "print(\"Dataset loaded successfully!\")\n",
        "\n",
        "pricing_structure = df.group_by([\"Cut\", \"Color\"]).agg([\n",
        "    pl.col(\"Price\").mean().alias(\"average_price\"),\n",
        "    pl.col(\"Price\").median().alias(\"median_price\"),\n",
        "    pl.count().alias(\"count\")\n",
        "]).sort([\"Cut\", \"Color\"])\n",
        "\n",
        "print(\"Pricing structure across cut-color combinations:\")\n",
        "print(pricing_structure)"
      ],
      "metadata": {
        "colab": {
          "base_uri": "https://localhost:8080/"
        },
        "id": "HODY23h1f_fy",
        "outputId": "c920bc29-08b7-4bce-b040-a3f0bf98a5f1"
      },
      "execution_count": null,
      "outputs": [
        {
          "output_type": "stream",
          "name": "stdout",
          "text": [
            "Loading diamonds dataset...\n",
            "Dataset loaded successfully!\n",
            "Pricing structure across cut-color combinations:\n",
            "shape: (30, 5)\n",
            "┌───────────┬───────┬───────────────┬──────────────┬───────┐\n",
            "│ Cut       ┆ Color ┆ average_price ┆ median_price ┆ count │\n",
            "│ ---       ┆ ---   ┆ ---           ┆ ---          ┆ ---   │\n",
            "│ str       ┆ str   ┆ f64           ┆ f64          ┆ u32   │\n",
            "╞═══════════╪═══════╪═══════════════╪══════════════╪═══════╡\n",
            "│ Fair      ┆ D     ┆ 6058.25       ┆ 5040.0       ┆ 12    │\n",
            "│ Fair      ┆ E     ┆ 5370.625      ┆ 4908.5       ┆ 32    │\n",
            "│ Fair      ┆ F     ┆ 6063.625      ┆ 4628.0       ┆ 24    │\n",
            "│ Fair      ┆ G     ┆ 7345.52381    ┆ 4646.0       ┆ 21    │\n",
            "│ Fair      ┆ H     ┆ 5908.5        ┆ 4358.0       ┆ 24    │\n",
            "│ …         ┆ …     ┆ …             ┆ …            ┆ …     │\n",
            "│ Very Good ┆ E     ┆ 12101.910217  ┆ 6703.0       ┆ 323   │\n",
            "│ Very Good ┆ F     ┆ 12413.905495  ┆ 8330.0       ┆ 455   │\n",
            "│ Very Good ┆ G     ┆ 12354.013841  ┆ 8249.0       ┆ 578   │\n",
            "│ Very Good ┆ H     ┆ 10056.106132  ┆ 6564.0       ┆ 424   │\n",
            "│ Very Good ┆ I     ┆ 8930.031332   ┆ 6684.0       ┆ 383   │\n",
            "└───────────┴───────┴───────────────┴──────────────┴───────┘\n"
          ]
        },
        {
          "output_type": "stream",
          "name": "stderr",
          "text": [
            "/tmp/ipython-input-1174476068.py:18: DeprecationWarning: `pl.count()` is deprecated. Please use `pl.len()` instead.\n",
            "  pl.count().alias(\"count\")\n"
          ]
        }
      ]
    },
    {
      "cell_type": "code",
      "source": [
        "#Question 10: URGENT - \"Our biggest client is interested in purchasing entire inventory segments.\n",
        "#They asked: 'Which color-cut combinations represent your highest total inventory value?' Show me the top 5 most valuable inventory segments by total worth, and include how many diamonds are in each segment.\"\n",
        "#This is critical for tomorrow's negotiation.\n",
        "\n",
        "import polars as pl\n",
        "\n",
        "# Load the diamonds dataset\n",
        "print(\"Loading diamonds dataset...\")\n",
        "df = pl.read_csv('https://raw.githubusercontent.com/pycaret/pycaret/master/datasets/diamond.csv')\n",
        "print(\"Dataset loaded successfully!\")\n",
        "\n",
        "top_segments = df.group_by([\"Cut\", \"Color\"]).agg([\n",
        "    pl.col(\"Price\").sum().alias(\"total_value\"),\n",
        "    pl.count().alias(\"diamond_count\")\n",
        "]).sort(\"total_value\", descending=True).head(5)\n",
        "\n",
        "print(\"Top 5 most valuable inventory segments by total worth:\")\n",
        "print(top_segments)\n"
      ],
      "metadata": {
        "colab": {
          "base_uri": "https://localhost:8080/"
        },
        "id": "9rm8Bzb8f_l6",
        "outputId": "e5732767-7ca3-4bc5-d9ec-d99e383ac4b1"
      },
      "execution_count": null,
      "outputs": [
        {
          "output_type": "stream",
          "name": "stdout",
          "text": [
            "Loading diamonds dataset...\n",
            "Dataset loaded successfully!\n",
            "Top 5 most valuable inventory segments by total worth:\n",
            "shape: (5, 4)\n",
            "┌───────────┬───────┬─────────────┬───────────────┐\n",
            "│ Cut       ┆ Color ┆ total_value ┆ diamond_count │\n",
            "│ ---       ┆ ---   ┆ ---         ┆ ---           │\n",
            "│ str       ┆ str   ┆ i64         ┆ u32           │\n",
            "╞═══════════╪═══════╪═════════════╪═══════════════╡\n",
            "│ Ideal     ┆ G     ┆ 9363514     ┆ 690           │\n",
            "│ Very Good ┆ G     ┆ 7140620     ┆ 578           │\n",
            "│ Very Good ┆ F     ┆ 5648327     ┆ 455           │\n",
            "│ Ideal     ┆ F     ┆ 5346782     ┆ 363           │\n",
            "│ Ideal     ┆ H     ┆ 5279687     ┆ 458           │\n",
            "└───────────┴───────┴─────────────┴───────────────┘\n"
          ]
        },
        {
          "output_type": "stream",
          "name": "stderr",
          "text": [
            "/tmp/ipython-input-1490958744.py:14: DeprecationWarning: `pl.count()` is deprecated. Please use `pl.len()` instead.\n",
            "  pl.count().alias(\"diamond_count\")\n"
          ]
        }
      ]
    }
  ]
}